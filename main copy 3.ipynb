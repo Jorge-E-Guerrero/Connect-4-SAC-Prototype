{
 "cells": [
  {
   "cell_type": "code",
   "execution_count": 1,
   "metadata": {},
   "outputs": [],
   "source": [
    "from time import sleep\n",
    "from collections import namedtuple, deque\n",
    "import matplotlib.pyplot as plt\n",
    "%matplotlib inline\n",
    "\n",
    "import torch\n",
    "import torch.nn as nn\n",
    "import torch.optim as optim\n",
    "import torch.nn.functional as F\n",
    "import numpy as np\n",
    "import math\n",
    "import random\n",
    "\n",
    "from pettingzoo.classic import connect_four_v3\n",
    "\n",
    "import pygame"
   ]
  },
  {
   "cell_type": "code",
   "execution_count": 2,
   "metadata": {},
   "outputs": [],
   "source": [
    "# if GPU is to be used\n",
    "device = torch.device(\"cuda\" if torch.cuda.is_available() else \"cpu\")"
   ]
  },
  {
   "cell_type": "code",
   "execution_count": 3,
   "metadata": {},
   "outputs": [],
   "source": [
    "#env = connect_four_v3.env(render_mode=\"human\")\n",
    "env = connect_four_v3.env()\n",
    "env.reset()"
   ]
  },
  {
   "cell_type": "code",
   "execution_count": 4,
   "metadata": {},
   "outputs": [],
   "source": [
    "BATCH_SIZE = 128\n",
    "GAMMA = 0.99\n",
    "EPS_START = 0.9\n",
    "EPS_END = 0.05\n",
    "EPS_DECAY = 0.001\n",
    "TAU = 0.005\n",
    "LR = 1e-4"
   ]
  },
  {
   "cell_type": "code",
   "execution_count": 5,
   "metadata": {},
   "outputs": [],
   "source": [
    "# Get number of actions from gym action space\n",
    "n_actions = 7\n",
    "\n",
    "# Get the number of state observations\n",
    "observation, reward, termination, truncation, info = env.last()\n",
    "\n",
    "observation_shape = np.array(observation[\"observation\"]).reshape(1,-1)\n",
    "n_observations = 84\n",
    "\n"
   ]
  },
  {
   "cell_type": "code",
   "execution_count": 6,
   "metadata": {},
   "outputs": [],
   "source": [
    "class ActorNetwork(nn.Module):\n",
    "\n",
    "    def __init__(self, n_observations, n_actions):\n",
    "        super(ActorNetwork, self).__init__()\n",
    "        self.layer1 = nn.Linear(n_observations, 128)\n",
    "        self.layer2 = nn.Linear(128, 128)\n",
    "        self.layer3 = nn.Linear(128, n_actions)\n",
    "\n",
    "    # Called with either one element to determine next action, or a batch\n",
    "    # during optimization. Returns tensor([[left0exp,right0exp]...]).\n",
    "    def forward(self, x):\n",
    "        x = F.relu(self.layer1(x))\n",
    "        x = F.relu(self.layer2(x))\n",
    "        return self.layer3(x)"
   ]
  },
  {
   "cell_type": "code",
   "execution_count": 7,
   "metadata": {},
   "outputs": [],
   "source": [
    "class CriticNetwork(nn.Module):\n",
    "    def __init__(self, state_size, action_size):\n",
    "        super(CriticNetwork, self).__init__()\n",
    "        self.linear1 = nn.Linear(state_size, 128)\n",
    "        self.linear2 = nn.Linear(128, 128)\n",
    "        self.linear3 = nn.Linear(128, 1)\n",
    "\n",
    "    def forward(self, x):\n",
    "        x = F.relu(self.linear1(x))\n",
    "        x = F.relu(self.linear2(x))\n",
    "        return self.linear3(x)"
   ]
  },
  {
   "cell_type": "code",
   "execution_count": 8,
   "metadata": {},
   "outputs": [],
   "source": [
    "class SAC:\n",
    "    def __init__(self,lr,gamma, eps_start,eps_end,eps_dec, n_actions,action_space,policy_net,policy_optimizer,target_net,target_optimizer):\n",
    "        \n",
    "        self.lr = lr\n",
    "        self.gamma = gamma\n",
    "        self.epsilon = eps_start\n",
    "        self.eps_end = eps_end\n",
    "        self.eps_dec = eps_dec\n",
    "        \n",
    "        self.n_actions = n_actions\n",
    "        self.action_space = action_space\n",
    "\n",
    "        self.policy_net = policy_net\n",
    "        self.policy_optimizer = policy_optimizer\n",
    "        self.target_net = target_net\n",
    "        self.target_optimizer = target_optimizer\n",
    "\n",
    "        self.memory = []\n",
    "\n",
    "        self.criterion = nn.MSELoss()\n",
    "        self.probs = []\n",
    "        self.loss = 0\n",
    "\n",
    "\n",
    "\n",
    "\n",
    "    def choose_action(self, agent, state):\n",
    "        if np.random.random() < self.epsilon:\n",
    "            action = env.action_space(agent).sample(state[\"action_mask\"])\n",
    "        else:\n",
    "            action_mask = torch.tensor(state[\"action_mask\"])\n",
    "            state_tensor = torch.FloatTensor(np.array(state[\"observation\"]).reshape(1,-1))\n",
    "            \n",
    "            q_values = self.policy_net(state_tensor)\n",
    "            max, min= torch.max(q_values), torch.min(q_values)\n",
    "            q_values = (q_values-min)/ (max-min)\n",
    "            valid_actions = action_mask *  q_values\n",
    "\n",
    "            #self.probs = valid_actions\n",
    "\n",
    "            action = np.argmax(valid_actions.detach().numpy())\n",
    "\n",
    "\n",
    "            self.policy_net.train()\n",
    "            self.decrement_epsilon()\n",
    "\n",
    "        return action\n",
    "    \n",
    "    def update(self, state,new_state, reward):\n",
    "        \n",
    "        \n",
    "        \n",
    "        state_tensor = torch.FloatTensor(np.array(state[\"observation\"]).reshape(1,-1))\n",
    "        new_state_tensor = torch.FloatTensor(np.array(new_state[\"observation\"]).reshape(1,-1))\n",
    "        action_mask = torch.tensor(new_state[\"action_mask\"])\n",
    "        \"\"\"\n",
    "        new_q_values = self.policy_net(new_state_tensor)\n",
    "        max, min= torch.max(new_q_values), torch.min(new_q_values)\n",
    "        q_values = (q_values-min)/ (max-min)\n",
    "        new_probs = action_mask *  q_values\n",
    "        new_q_value = np.argmax(new_probs.detach().numpy())\"\"\"\n",
    "\n",
    "\n",
    "\n",
    "        state_value = self.target_net(state_tensor)\n",
    "        new_state_value = reward + (self.gamma* self.target_net(new_state_tensor))\n",
    "        \n",
    "        self.loss = self.criterion(state_value,new_state_value)\n",
    "\n",
    "        self.loss.backward()\n",
    "\n",
    "\n",
    "    def update_memory(self,state, reward, termination, truncation, info):\n",
    "        self.memory.append((state, reward, termination, truncation, info))\n",
    "\n",
    "    def clear_memory(self):\n",
    "        self.memory = []\n",
    "\n",
    "\n",
    "    def optimize(self):\n",
    "        self.policy_optimizer.zero_grad()\n",
    "        self.target_optimizer.zero_grad()\n",
    "        \n",
    "        self.policy_optimizer.step()\n",
    "        self.target_optimizer.step()\n",
    "    \n",
    "    def decrement_epsilon(self):\n",
    "        self.epsilon = self.epsilon - self.eps_dec \\\n",
    "            if self.epsilon > self.eps_end else self.eps_end\n",
    "    \n"
   ]
  },
  {
   "cell_type": "code",
   "execution_count": 9,
   "metadata": {},
   "outputs": [],
   "source": [
    "policy_net = ActorNetwork(n_observations, n_actions).to(device)\n",
    "target_net = CriticNetwork(n_observations, n_actions).to(device)\n",
    "#target_net.load_state_dict(policy_net.state_dict())\n",
    "\n",
    "Actor_optimizer = optim.Adam(policy_net.parameters(), lr=LR, amsgrad=True)\n",
    "Critic_optimizer = optim.Adam(target_net.parameters(), lr=LR, amsgrad=True)\n",
    "\n",
    "sac_agent = SAC(lr=LR,gamma=GAMMA,eps_start=EPS_START,\n",
    "                eps_end=EPS_END,eps_dec=EPS_DECAY,\n",
    "                n_actions=n_actions,action_space=n_observations,\n",
    "                policy_net=policy_net,policy_optimizer=Actor_optimizer,\n",
    "                target_net=target_net,target_optimizer=Critic_optimizer)\n"
   ]
  },
  {
   "cell_type": "code",
   "execution_count": 10,
   "metadata": {},
   "outputs": [
    {
     "ename": "UnboundLocalError",
     "evalue": "cannot access local variable 'q_values' where it is not associated with a value",
     "output_type": "error",
     "traceback": [
      "\u001b[1;31m---------------------------------------------------------------------------\u001b[0m",
      "\u001b[1;31mUnboundLocalError\u001b[0m                         Traceback (most recent call last)",
      "Cell \u001b[1;32mIn[10], line 64\u001b[0m\n\u001b[0;32m     61\u001b[0m     env\u001b[39m.\u001b[39mstep(action) \n\u001b[0;32m     63\u001b[0m     new_state, new_reward, new_termination, new_truncation, new_info \u001b[39m=\u001b[39m env\u001b[39m.\u001b[39mlast()\n\u001b[1;32m---> 64\u001b[0m     sac_agent\u001b[39m.\u001b[39;49mupdate(state,new_state,new_reward)\n\u001b[0;32m     68\u001b[0m     last_action_player_1 \u001b[39m=\u001b[39m action \n\u001b[0;32m     69\u001b[0m previous_state \u001b[39m=\u001b[39m state[\u001b[39m\"\u001b[39m\u001b[39mobservation\u001b[39m\u001b[39m\"\u001b[39m]\n",
      "Cell \u001b[1;32mIn[8], line 59\u001b[0m, in \u001b[0;36mSAC.update\u001b[1;34m(self, state, new_state, reward)\u001b[0m\n\u001b[0;32m     57\u001b[0m new_q_values \u001b[39m=\u001b[39m \u001b[39mself\u001b[39m\u001b[39m.\u001b[39mpolicy_net(new_state_tensor)\n\u001b[0;32m     58\u001b[0m \u001b[39mmax\u001b[39m, \u001b[39mmin\u001b[39m\u001b[39m=\u001b[39m torch\u001b[39m.\u001b[39mmax(new_q_values), torch\u001b[39m.\u001b[39mmin(new_q_values)\n\u001b[1;32m---> 59\u001b[0m q_values \u001b[39m=\u001b[39m (q_values\u001b[39m-\u001b[39m\u001b[39mmin\u001b[39m)\u001b[39m/\u001b[39m (\u001b[39mmax\u001b[39m\u001b[39m-\u001b[39m\u001b[39mmin\u001b[39m)\n\u001b[0;32m     60\u001b[0m new_probs \u001b[39m=\u001b[39m action_mask \u001b[39m*\u001b[39m  q_values\n\u001b[0;32m     61\u001b[0m new_q_value \u001b[39m=\u001b[39m np\u001b[39m.\u001b[39margmax(new_probs\u001b[39m.\u001b[39mdetach()\u001b[39m.\u001b[39mnumpy())\n",
      "\u001b[1;31mUnboundLocalError\u001b[0m: cannot access local variable 'q_values' where it is not associated with a value"
     ]
    }
   ],
   "source": [
    "# Inicializa pygame\n",
    "#pygame.init()\n",
    "\n",
    "# Crea la ventana\n",
    "#screen = pygame.display.set_mode ( (400,400),pygame.RESIZABLE )\n",
    "#pygame.VIDEORESIZE\n",
    "\n",
    "agent_score = []\n",
    "\n",
    "num_episodes = 2000\n",
    "total_reward_player_0 = 0\n",
    "total_reward_player_1 = 0\n",
    "last_action_player_1 = 0\n",
    "previous_state = observation\n",
    "\n",
    "for episode in range(num_episodes):\n",
    "\n",
    "\n",
    "    state = env.reset()\n",
    "    #env.render()\n",
    "    \n",
    "\n",
    "\n",
    "    for agent in env.agent_iter():\n",
    "        #print(agent)\n",
    "        state, reward, termination, truncation, info = env.last()\n",
    "        sac_agent.update_memory(state, reward, termination, truncation, info)\n",
    "\n",
    "\n",
    "        if termination or truncation:\n",
    "                #print(env.rewards)\n",
    "                total_reward_player_0 = total_reward_player_0 + env.rewards[\"player_0\"]\n",
    "                total_reward_player_1 = total_reward_player_1 + env.rewards[\"player_1\"]\n",
    "                sac_agent.optimize()\n",
    "                agent_score.append(total_reward_player_1)\n",
    "                sac_agent.clear_memory\n",
    "                #sac_agent.learn(previous_state,last_action_player_1,total_reward_player_1,state)\n",
    "\n",
    "                break\n",
    "        \n",
    "        if(agent == \"player_0\"):\n",
    "            #print(\"Player 1\")\n",
    "\n",
    "            mask = state[\"action_mask\"]\n",
    "            action = env.action_space(agent).sample(mask)  # this is where you would insert your policy\n",
    "            #print(action)\n",
    "            env.step(action)\n",
    "        else:\n",
    "            #print(\"Player 2\")\n",
    "            \n",
    "            mask = state[\"action_mask\"]\n",
    "            #action = env.action_space(agent).sample(mask)  # this is where you would insert your policy\n",
    "            action= sac_agent.choose_action(agent,state)\n",
    "\n",
    "            #state_tensor = torch.FloatTensor(np.array(state[\"observation\"]).reshape(1,-1))\n",
    "\n",
    "            #action = policy_net.act(state_tensor)\n",
    "            #print(action)\n",
    "            #print(action)\n",
    "            #action = int(input(\"Elige la columna: \\n\")) - 1 \n",
    "            env.step(action) \n",
    "\n",
    "            new_state, new_reward, new_termination, new_truncation, new_info = env.last()\n",
    "            sac_agent.update(state,new_state,new_reward)\n",
    "            \n",
    "\n",
    "\n",
    "            last_action_player_1 = action \n",
    "        previous_state = state[\"observation\"]\n",
    "    env.close()\n",
    "\n",
    "print(\"Total score player 1: \" + str(total_reward_player_0))\n",
    "print(\"Total score player 2: \" + str(total_reward_player_1))\n"
   ]
  },
  {
   "cell_type": "code",
   "execution_count": null,
   "metadata": {},
   "outputs": [
    {
     "data": {
      "image/png": "[encoded data removed]",
      "text/plain": [
       "<Figure size 640x480 with 1 Axes>"
      ]
     },
     "metadata": {},
     "output_type": "display_data"
    }
   ],
   "source": [
    "plt.plot(agent_score)\n",
    "plt.show()"
   ]
  },
  {
   "cell_type": "code",
   "execution_count": null,
   "metadata": {},
   "outputs": [
    {
     "data": {
      "text/plain": [
       "'\\nReferencias:\\n\\nhttps://pytorch.org/tutorials/intermediate/reinforcement_q_learning.html\\n\\n'"
      ]
     },
     "execution_count": 331,
     "metadata": {},
     "output_type": "execute_result"
    }
   ],
   "source": [
    "\"\"\"\n",
    "Referencias:\n",
    "\n",
    "https://pytorch.org/tutorials/intermediate/reinforcement_q_learning.html\n",
    "\n",
    "\"\"\""
   ]
  }
 ],
 "metadata": {
  "kernelspec": {
   "display_name": "Python 3",
   "language": "python",
   "name": "python3"
  },
  "language_info": {
   "codemirror_mode": {
    "name": "ipython",
    "version": 3
   },
   "file_extension": ".py",
   "mimetype": "text/x-python",
   "name": "python",
   "nbconvert_exporter": "python",
   "pygments_lexer": "ipython3",
   "version": "3.11.3"
  },
  "orig_nbformat": 4
 },
 "nbformat": 4,
 "nbformat_minor": 2
}
