{
 "cells": [
  {
   "cell_type": "code",
   "execution_count": 159,
   "metadata": {},
   "outputs": [],
   "source": [
    "import gym\n",
    "import numpy as np\n",
    "import time"
   ]
  },
  {
   "cell_type": "code",
   "execution_count": 160,
   "metadata": {},
   "outputs": [],
   "source": [
    "env = gym.make('FrozenLake-v1')\n",
    "STATES = env.observation_space.n\n",
    "ACTIONS = env.action_space.n"
   ]
  },
  {
   "cell_type": "code",
   "execution_count": 161,
   "metadata": {},
   "outputs": [],
   "source": [
    "Q = np.zeros((STATES, ACTIONS))"
   ]
  },
  {
   "cell_type": "code",
   "execution_count": 162,
   "metadata": {},
   "outputs": [],
   "source": [
    "EPISODES = 1500\n",
    "MAX_STEPS = 100\n",
    "\n",
    "RENDER = False\n",
    "\n",
    "LEARNING_RATE = 0.81\n",
    "GAMMA = 0.96\n",
    "\n",
    "epsilon = 0.9"
   ]
  },
  {
   "cell_type": "code",
   "execution_count": 163,
   "metadata": {},
   "outputs": [
    {
     "name": "stdout",
     "output_type": "stream",
     "text": [
      "16\n",
      "4\n"
     ]
    }
   ],
   "source": [
    "print(env.observation_space.n)\n",
    "print(env.action_space.n)"
   ]
  },
  {
   "cell_type": "code",
   "execution_count": 164,
   "metadata": {},
   "outputs": [
    {
     "data": {
      "text/plain": [
       "(0, {'prob': 1})"
      ]
     },
     "execution_count": 164,
     "metadata": {},
     "output_type": "execute_result"
    }
   ],
   "source": [
    "env.reset()"
   ]
  },
  {
   "cell_type": "code",
   "execution_count": 165,
   "metadata": {},
   "outputs": [],
   "source": [
    "#Q[new_state, action] = Q[new_state, action] + LEARNING_RATE * (reward + GAMMA + np.max(Q[new_state,:]) - Q[new_state, action]    )"
   ]
  },
  {
   "cell_type": "code",
   "execution_count": 166,
   "metadata": {},
   "outputs": [
    {
     "data": {
      "text/plain": [
       "(0, {'prob': 1})"
      ]
     },
     "execution_count": 166,
     "metadata": {},
     "output_type": "execute_result"
    }
   ],
   "source": [
    "state = env.reset()\n",
    "state"
   ]
  },
  {
   "cell_type": "code",
   "execution_count": 173,
   "metadata": {},
   "outputs": [
    {
     "name": "stdout",
     "output_type": "stream",
     "text": [
      "[[52252.89696197  5592.51806845  5567.89081102  5145.91536922]\n",
      " [    0.             0.             0.             0.        ]\n",
      " [    0.             0.             0.             0.        ]\n",
      " [    0.             0.             0.             0.        ]\n",
      " [28227.65759996     0.             0.             0.        ]\n",
      " [    0.             0.             0.             0.        ]\n",
      " [    0.             0.             0.             0.        ]\n",
      " [    0.             0.             0.             0.        ]\n",
      " [14184.2016         0.             0.             0.        ]\n",
      " [    0.             0.             0.             0.        ]\n",
      " [    0.             0.             0.             0.        ]\n",
      " [    0.             0.             0.             0.        ]\n",
      " [ 4656.2688         0.             0.             0.        ]\n",
      " [    0.             0.             0.             0.        ]\n",
      " [    0.             0.             0.             0.        ]\n",
      " [    0.             0.             0.             0.        ]]\n",
      "Average reward: 0.0\n"
     ]
    }
   ],
   "source": [
    "rewards = []\n",
    "for episode in range(EPISODES):\n",
    "\n",
    "    state = env.reset()\n",
    "    state = int(state[0])\n",
    "    for _ in range(MAX_STEPS):\n",
    "\n",
    "        if RENDER:\n",
    "            env.render()\n",
    "\n",
    "        if np.random.uniform(0,1) < epsilon:\n",
    "            action = env.action_space.sample()\n",
    "        else: \n",
    "            action = np.argmax(Q[state,:])\n",
    "            #action = env.action_space.sample()\n",
    "        \n",
    "        next_state, reward, done, _ ,prob= env.step(action)\n",
    "        Q[next_state, action] = Q[next_state, action] + LEARNING_RATE * (reward + GAMMA + np.max(Q[next_state,:]) - Q[next_state, action])\n",
    "\n",
    "        state = next_state\n",
    "\n",
    "        if done:\n",
    "            rewards.append(reward)\n",
    "            epsilon -= 0.001\n",
    "            break\n",
    "print(Q)\n",
    "print(f\"Average reward: {sum(rewards)/len(rewards)}\")"
   ]
  }
 ],
 "metadata": {
  "kernelspec": {
   "display_name": "Python 3",
   "language": "python",
   "name": "python3"
  },
  "language_info": {
   "codemirror_mode": {
    "name": "ipython",
    "version": 3
   },
   "file_extension": ".py",
   "mimetype": "text/x-python",
   "name": "python",
   "nbconvert_exporter": "python",
   "pygments_lexer": "ipython3",
   "version": "3.9.12"
  },
  "orig_nbformat": 4
 },
 "nbformat": 4,
 "nbformat_minor": 2
}
